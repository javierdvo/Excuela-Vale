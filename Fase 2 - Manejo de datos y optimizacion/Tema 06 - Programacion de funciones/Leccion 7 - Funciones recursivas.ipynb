{
 "cells": [
  {
   "cell_type": "markdown",
   "metadata": {},
   "source": [
    "# Funciones recursivas\n",
    "\n",
    "#### Se trata de funciones que se llaman a si mismas durante su propia ejecucion. Funcionan de formasimilar a las iteraciones y debemos encargarnosde planificar en elmomento en que una funcion recursivadeja de llamarse a si misma o tenemos una recursion infinita.\n",
    "\n",
    "#### Suele utilizarse para dividir una tarea en subtareas mas simples de forma que sea mas fail abordarelproblema y solucionarlo"
   ]
  },
  {
   "cell_type": "markdown",
   "metadata": {},
   "source": [
    "# Ejemplo sencillo sin retorno"
   ]
  },
  {
   "cell_type": "code",
   "execution_count": 1,
   "metadata": {},
   "outputs": [
    {
     "name": "stdout",
     "output_type": "stream",
     "text": [
      "4\n",
      "3\n",
      "2\n",
      "1\n",
      "Boooooom!\n",
      "Fin de lafuncion 0\n",
      "Fin de lafuncion 1\n",
      "Fin de lafuncion 2\n",
      "Fin de lafuncion 3\n",
      "Fin de lafuncion 4\n"
     ]
    }
   ],
   "source": [
    "def cuenta_atras (num):\n",
    "    num -= 1\n",
    "    if num > 0:\n",
    "        print(num)\n",
    "        cuenta_atras (num)\n",
    "    else: \n",
    "        print(\"Boooooom!\")\n",
    "    print(\"Fin de lafuncion\", num)\n",
    "\n",
    "cuenta_atras (5)\n",
    "        "
   ]
  },
  {
   "cell_type": "code",
   "execution_count": 2,
   "metadata": {},
   "outputs": [
    {
     "name": "stdout",
     "output_type": "stream",
     "text": [
      "4\n",
      "3\n",
      "2\n",
      "1\n",
      "Boooooom!\n",
      "Fin de lafuncion 0\n"
     ]
    }
   ],
   "source": [
    "def cuenta_atras (num):\n",
    "    num -= 1\n",
    "    if num > 0:\n",
    "        print(num)\n",
    "        cuenta_atras (num)\n",
    "    else: \n",
    "        print(\"Boooooom!\")\n",
    "        print(\"Fin de lafuncion\", num)\n",
    "\n",
    "cuenta_atras (5)"
   ]
  },
  {
   "cell_type": "markdown",
   "metadata": {},
   "source": [
    "# Ejemplo con retorno"
   ]
  },
  {
   "cell_type": "code",
   "execution_count": 3,
   "metadata": {},
   "outputs": [
    {
     "name": "stdout",
     "output_type": "stream",
     "text": [
      "Valor inicial: 9\n",
      "Valor inicial: 8\n",
      "Valor inicial: 7\n",
      "Valor inicial: 6\n",
      "Valor inicial: 5\n",
      "Valor inicial: 4\n",
      "Valor inicial: 3\n",
      "Valor inicial: 2\n",
      "Valor inicial: 1\n",
      "Valor final: 1\n",
      "Valor final: 2\n",
      "Valor final: 6\n",
      "Valor final: 24\n",
      "Valor final: 120\n",
      "Valor final: 720\n",
      "Valor final: 5040\n",
      "Valor final: 40320\n",
      "Valor final: 362880\n"
     ]
    },
    {
     "data": {
      "text/plain": [
       "362880"
      ]
     },
     "execution_count": 3,
     "metadata": {},
     "output_type": "execute_result"
    }
   ],
   "source": [
    "# Factorial de un numero\n",
    "def factorial(num):\n",
    "    print(\"Valor inicial:\", num)\n",
    "    if num > 1:\n",
    "        num = num * factorial (num - 1)\n",
    "    print(\"Valor final:\", num)\n",
    "    return num\n",
    "factorial (9)"
   ]
  },
  {
   "cell_type": "code",
   "execution_count": null,
   "metadata": {
    "collapsed": true
   },
   "outputs": [],
   "source": []
  }
 ],
 "metadata": {
  "kernelspec": {
   "display_name": "Python 3",
   "language": "python",
   "name": "python3"
  },
  "language_info": {
   "codemirror_mode": {
    "name": "ipython",
    "version": 3
   },
   "file_extension": ".py",
   "mimetype": "text/x-python",
   "name": "python",
   "nbconvert_exporter": "python",
   "pygments_lexer": "ipython3",
   "version": "3.6.6"
  }
 },
 "nbformat": 4,
 "nbformat_minor": 1
}
