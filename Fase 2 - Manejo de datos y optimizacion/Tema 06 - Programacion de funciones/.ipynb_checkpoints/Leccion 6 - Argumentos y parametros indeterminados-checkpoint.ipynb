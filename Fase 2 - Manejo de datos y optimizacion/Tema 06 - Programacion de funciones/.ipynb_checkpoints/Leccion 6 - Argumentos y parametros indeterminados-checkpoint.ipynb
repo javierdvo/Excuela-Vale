{
 "cells": [
  {
   "cell_type": "markdown",
   "metadata": {},
   "source": [
    "# Argumentos y parametros indeterminados\n",
    "\n",
    "#### Quiza en algunaocasion no sabemos de antemano cuantos elementos vamos a enviar a una funcion. En estoscasos podemos usar paametros indeterminados por posicion y nombre."
   ]
  },
  {
   "cell_type": "markdown",
   "metadata": {},
   "source": [
    "# Por posicion"
   ]
  },
  {
   "cell_type": "code",
   "execution_count": 1,
   "metadata": {},
   "outputs": [
    {
     "name": "stdout",
     "output_type": "stream",
     "text": [
      "5\n",
      "Hola\n",
      "[1, 2, 3, 4, 5]\n"
     ]
    }
   ],
   "source": [
    "# Crear una lista dinamica con argumentos (una tupla)\n",
    "def indeterminados_posicion (*args):\n",
    "    for arg in args:\n",
    "        print (arg)\n",
    "\n",
    "indeterminados_posicion(5,\"Hola\", [1,2,3,4,5])"
   ]
  },
  {
   "cell_type": "code",
   "execution_count": 4,
   "metadata": {},
   "outputs": [
    {
     "name": "stdout",
     "output_type": "stream",
     "text": [
      "(5, 'Hola', [1, 2, 3, 4, 5])\n"
     ]
    }
   ],
   "source": [
    "def indeterminados_posicion (*args):\n",
    "    print (args)\n",
    "\n",
    "indeterminados_posicion(5,\"Hola\", [1,2,3,4,5])"
   ]
  },
  {
   "cell_type": "markdown",
   "metadata": {},
   "source": [
    "# Por nombre"
   ]
  },
  {
   "cell_type": "code",
   "execution_count": 5,
   "metadata": {},
   "outputs": [
    {
     "name": "stdout",
     "output_type": "stream",
     "text": [
      "{'n': 5, 'c': 'Hola', 'l': [1, 2, 3, 4, 5]}\n"
     ]
    }
   ],
   "source": [
    "def indeterminados_nombre (**kwargs): #Clave-valor\n",
    "    print(kwargs)\n",
    "indeterminados_nombre(n=5,c=\"Hola\", l=[1,2,3,4,5])"
   ]
  },
  {
   "cell_type": "code",
   "execution_count": 7,
   "metadata": {},
   "outputs": [
    {
     "name": "stdout",
     "output_type": "stream",
     "text": [
      "n\n",
      "c\n",
      "l\n"
     ]
    }
   ],
   "source": [
    "def indeterminados_nombre (**kwargs): #Clave-valor\n",
    "    for kwarg in kwargs:\n",
    "        print(kwarg)\n",
    "indeterminados_nombre(n=5,c=\"Hola\", l=[1,2,3,4,5])"
   ]
  },
  {
   "cell_type": "code",
   "execution_count": 8,
   "metadata": {},
   "outputs": [
    {
     "name": "stdout",
     "output_type": "stream",
     "text": [
      "n   5\n",
      "c   Hola\n",
      "l   [1, 2, 3, 4, 5]\n"
     ]
    }
   ],
   "source": [
    "def indeterminados_nombre (**kwargs): #Clave-valor\n",
    "    for kwarg in kwargs:\n",
    "        print(kwarg , \" \", kwargs[kwarg])\n",
    "indeterminados_nombre(n=5,c=\"Hola\", l=[1,2,3,4,5])"
   ]
  },
  {
   "cell_type": "markdown",
   "metadata": {},
   "source": [
    "# Por posicion y nombre a la vez"
   ]
  },
  {
   "cell_type": "code",
   "execution_count": 11,
   "metadata": {},
   "outputs": [
    {
     "name": "stdout",
     "output_type": "stream",
     "text": [
      "Sumatorio indeterminado es -409.7\n",
      "nombre   Valeria\n",
      "edad   27\n"
     ]
    }
   ],
   "source": [
    "def super_funcion (*args, **kwargs):\n",
    "    t = 0\n",
    "    for arg in args:\n",
    "        t+=arg\n",
    "    print(\"Sumatorio indeterminado es\", t)\n",
    "    for kwarg in kwargs:\n",
    "        print(kwarg, \" \", kwargs[kwarg])\n",
    "        \n",
    "super_funcion(10,20,40,30.30,-10,-500, nombre=\"Valeria\", edad=27)"
   ]
  },
  {
   "cell_type": "code",
   "execution_count": null,
   "metadata": {
    "collapsed": true
   },
   "outputs": [],
   "source": []
  }
 ],
 "metadata": {
  "kernelspec": {
   "display_name": "Python 3",
   "language": "python",
   "name": "python3"
  },
  "language_info": {
   "codemirror_mode": {
    "name": "ipython",
    "version": 3
   },
   "file_extension": ".py",
   "mimetype": "text/x-python",
   "name": "python",
   "nbconvert_exporter": "python",
   "pygments_lexer": "ipython3",
   "version": "3.6.6"
  }
 },
 "nbformat": 4,
 "nbformat_minor": 1
}
