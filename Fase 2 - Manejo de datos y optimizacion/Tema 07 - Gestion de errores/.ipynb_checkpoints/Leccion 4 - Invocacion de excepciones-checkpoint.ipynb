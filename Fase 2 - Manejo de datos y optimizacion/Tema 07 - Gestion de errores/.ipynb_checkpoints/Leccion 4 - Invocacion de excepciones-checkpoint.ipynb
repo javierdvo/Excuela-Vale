{
 "cells": [
  {
   "cell_type": "markdown",
   "metadata": {},
   "source": [
    "# Invocacion de excepcion\n",
    "\n",
    "En algunas ocasiones nos interesa llaar un error manualmente, ya que un print comun no es muy elegante"
   ]
  },
  {
   "cell_type": "code",
   "execution_count": 1,
   "metadata": {
    "collapsed": true
   },
   "outputs": [],
   "source": [
    "def una_funcion (algo=None):\n",
    "    if algo is None:\n",
    "        print(\"Error! Nose permite un vaor nulo con un print\")\n",
    "\n",
    "una_funcion (\"texto\")"
   ]
  },
  {
   "cell_type": "code",
   "execution_count": 2,
   "metadata": {},
   "outputs": [
    {
     "name": "stdout",
     "output_type": "stream",
     "text": [
      "Error! Nose permite un vaor nulo con un print\n"
     ]
    }
   ],
   "source": [
    "una_funcion()"
   ]
  },
  {
   "cell_type": "markdown",
   "metadata": {},
   "source": [
    "# La instruccion raise\n",
    "Gracias a raise podemos lanzar un error manual pasandleelidentificador. Luego simplemente podemosanadir un except para tratar esta excepcion que hemos lanzado"
   ]
  },
  {
   "cell_type": "code",
   "execution_count": 5,
   "metadata": {},
   "outputs": [
    {
     "name": "stdout",
     "output_type": "stream",
     "text": [
      "Error! Nose permite un vaor nulo con un except\n"
     ]
    }
   ],
   "source": [
    "def una_funcion (algo=None):\n",
    "    try:\n",
    "        if algo is None:\n",
    "            raise ValueError(\"Error! Nose permite un valor nulo\")\n",
    "    except ValueError:\n",
    "        print(\"Error! Nose permite un vaor nulo con un except\")\n",
    "\n",
    "una_funcion ()"
   ]
  },
  {
   "cell_type": "code",
   "execution_count": null,
   "metadata": {
    "collapsed": true
   },
   "outputs": [],
   "source": []
  }
 ],
 "metadata": {
  "kernelspec": {
   "display_name": "Python 3",
   "language": "python",
   "name": "python3"
  },
  "language_info": {
   "codemirror_mode": {
    "name": "ipython",
    "version": 3
   },
   "file_extension": ".py",
   "mimetype": "text/x-python",
   "name": "python",
   "nbconvert_exporter": "python",
   "pygments_lexer": "ipython3",
   "version": "3.6.6"
  }
 },
 "nbformat": 4,
 "nbformat_minor": 1
}
