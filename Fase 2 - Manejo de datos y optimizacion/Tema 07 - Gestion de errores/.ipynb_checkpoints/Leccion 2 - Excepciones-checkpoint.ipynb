{
 "cells": [
  {
   "cell_type": "markdown",
   "metadata": {},
   "source": [
    "# Excepciones\n",
    "\n",
    "Bloques de codigo exepcionales que nos permie continuar con la ejecucion dun programa pese a que ocurra un error"
   ]
  },
  {
   "cell_type": "code",
   "execution_count": 1,
   "metadata": {},
   "outputs": [
    {
     "name": "stdout",
     "output_type": "stream",
     "text": [
      "Da numeri:m\n"
     ]
    },
    {
     "ename": "ValueError",
     "evalue": "could not convert string to float: 'm'",
     "output_type": "error",
     "traceback": [
      "\u001b[1;31m---------------------------------------------------------------------------\u001b[0m",
      "\u001b[1;31mValueError\u001b[0m                                Traceback (most recent call last)",
      "\u001b[1;32m<ipython-input-1-633e5c549004>\u001b[0m in \u001b[0;36m<module>\u001b[1;34m()\u001b[0m\n\u001b[1;32m----> 1\u001b[1;33m \u001b[0mn\u001b[0m \u001b[1;33m=\u001b[0m \u001b[0mfloat\u001b[0m\u001b[1;33m(\u001b[0m\u001b[0minput\u001b[0m\u001b[1;33m(\u001b[0m\u001b[1;34m\"Da numeri:\"\u001b[0m\u001b[1;33m)\u001b[0m\u001b[1;33m)\u001b[0m\u001b[1;33m\u001b[0m\u001b[0m\n\u001b[0m\u001b[0;32m      2\u001b[0m \u001b[0mm\u001b[0m \u001b[1;33m=\u001b[0m \u001b[1;36m10\u001b[0m\u001b[1;33m\u001b[0m\u001b[0m\n\u001b[0;32m      3\u001b[0m \u001b[0mprint\u001b[0m\u001b[1;33m(\u001b[0m\u001b[0mn\u001b[0m\u001b[1;33m/\u001b[0m\u001b[0mm\u001b[0m\u001b[1;33m)\u001b[0m\u001b[1;33m\u001b[0m\u001b[0m\n",
      "\u001b[1;31mValueError\u001b[0m: could not convert string to float: 'm'"
     ]
    }
   ],
   "source": [
    "n = float(input(\"Da numeri:\"))\n",
    "m = 10\n",
    "print(n/m)"
   ]
  },
  {
   "cell_type": "markdown",
   "metadata": {},
   "source": [
    "# Creando la excepcion - Bloques try y except\n",
    "\n",
    "Para prevenir el error, debemos poner el codigo propenso a eror un bloque try y luego encadenaremosun bloque except para tratar la excepcion"
   ]
  },
  {
   "cell_type": "code",
   "execution_count": 2,
   "metadata": {},
   "outputs": [
    {
     "name": "stdout",
     "output_type": "stream",
     "text": [
      "Da numeri:m\n",
      "Error, menso\n"
     ]
    }
   ],
   "source": [
    "try:\n",
    "    n = float(input(\"Da numeri:\"))\n",
    "    m = 10\n",
    "    print(n/m)\n",
    "except:\n",
    "    print(\"Error, menso\")"
   ]
  },
  {
   "cell_type": "code",
   "execution_count": 3,
   "metadata": {},
   "outputs": [
    {
     "name": "stdout",
     "output_type": "stream",
     "text": [
      "Da numeri:a\n",
      "Error, menso\n",
      "Da numeri:b\n",
      "Error, menso\n",
      "Da numeri:c\n",
      "Error, menso\n",
      "Da numeri:9\n",
      "0.9\n"
     ]
    }
   ],
   "source": [
    "while(True):\n",
    "    try:\n",
    "        n = float(input(\"Da numeri:\"))\n",
    "        m = 10\n",
    "        print(n/m)\n",
    "        break\n",
    "    except:\n",
    "        print(\"Error, menso\")"
   ]
  },
  {
   "cell_type": "markdown",
   "metadata": {},
   "source": [
    "# Bloque else en excepciones"
   ]
  },
  {
   "cell_type": "code",
   "execution_count": 4,
   "metadata": {},
   "outputs": [
    {
     "name": "stdout",
     "output_type": "stream",
     "text": [
      "Da numeri:a\n",
      "Error, menso\n",
      "Da numeri:b\n",
      "Error, menso\n",
      "Da numeri:c\n",
      "Error, menso\n",
      "Da numeri:8\n",
      "0.8\n",
      "Funciona, bye\n"
     ]
    }
   ],
   "source": [
    "while(True):\n",
    "    try:\n",
    "        n = float(input(\"Da numeri:\"))\n",
    "        m = 10\n",
    "        print(n/m)\n",
    "    except:\n",
    "        print(\"Error, menso\")\n",
    "    else:\n",
    "        print(\"Funciona, bye\")\n",
    "        break"
   ]
  },
  {
   "cell_type": "markdown",
   "metadata": {},
   "source": [
    "# Bloque finally en excepciones\n",
    "\n",
    "Para que se ejecute al final del codigo occura o no un error"
   ]
  },
  {
   "cell_type": "code",
   "execution_count": 5,
   "metadata": {},
   "outputs": [
    {
     "name": "stdout",
     "output_type": "stream",
     "text": [
      "Da numeri:a\n",
      "Error, menso\n",
      "Se acabo\n",
      "Da numeri:1\n",
      "0.1\n",
      "Funciona, bye\n",
      "Se acabo\n"
     ]
    }
   ],
   "source": [
    "while(True):\n",
    "    try:\n",
    "        n = float(input(\"Da numeri:\"))\n",
    "        m = 10\n",
    "        print(n/m)\n",
    "    except:\n",
    "        print(\"Error, menso\")\n",
    "    else:\n",
    "        print(\"Funciona, bye\")\n",
    "        break\n",
    "    finally:\n",
    "        print(\"Se acabo\")"
   ]
  },
  {
   "cell_type": "code",
   "execution_count": null,
   "metadata": {
    "collapsed": true
   },
   "outputs": [],
   "source": []
  }
 ],
 "metadata": {
  "kernelspec": {
   "display_name": "Python 3",
   "language": "python",
   "name": "python3"
  },
  "language_info": {
   "codemirror_mode": {
    "name": "ipython",
    "version": 3
   },
   "file_extension": ".py",
   "mimetype": "text/x-python",
   "name": "python",
   "nbconvert_exporter": "python",
   "pygments_lexer": "ipython3",
   "version": "3.6.6"
  }
 },
 "nbformat": 4,
 "nbformat_minor": 1
}
