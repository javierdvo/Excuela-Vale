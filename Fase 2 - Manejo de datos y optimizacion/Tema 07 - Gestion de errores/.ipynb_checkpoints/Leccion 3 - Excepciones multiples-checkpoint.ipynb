{
 "cells": [
  {
   "cell_type": "markdown",
   "metadata": {},
   "source": [
    "# Capturando multiples excepciones\n",
    "\n",
    "### Guardando la excepcion\n",
    "\n",
    "Asignar una excepcion a una variable (porejemplo e), de esta forma haciendo un peque truco podemos analizar e tip de rror que sucede gracias a su identificador"
   ]
  },
  {
   "cell_type": "code",
   "execution_count": 1,
   "metadata": {},
   "outputs": [
    {
     "name": "stdout",
     "output_type": "stream",
     "text": [
      "Introduce num: 9\n",
      "TypeError\n"
     ]
    }
   ],
   "source": [
    "try:\n",
    "    n = input(\"Introduce num: \")\n",
    "    5/n\n",
    "except Exception as e:\n",
    "    print(type(e).__name__)"
   ]
  },
  {
   "cell_type": "markdown",
   "metadata": {},
   "source": [
    "# Encadenand excepciones"
   ]
  },
  {
   "cell_type": "code",
   "execution_count": 9,
   "metadata": {},
   "outputs": [
    {
     "name": "stdout",
     "output_type": "stream",
     "text": [
      "Introduce num: :)\n",
      "Debes introducir una cadena que sea un numero\n"
     ]
    }
   ],
   "source": [
    "# Exception engloba cualquier tipo de error\n",
    "\n",
    "try:\n",
    "    n = float(input(\"Introduce num: \"))\n",
    "    5/n\n",
    "except TypeError:\n",
    "    print(\"No se puede dividir un numero por una cadena\")\n",
    "except ValueError:\n",
    "    print(\"Debes introducir una cadena que sea un numero\")\n",
    "except ZeroDivisionError:\n",
    "    print(\"No se puede dividir por cero, prueba otro numero\")\n",
    "except Exception as e:\n",
    "    print ( type(e).__name__)"
   ]
  },
  {
   "cell_type": "code",
   "execution_count": null,
   "metadata": {
    "collapsed": true
   },
   "outputs": [],
   "source": []
  }
 ],
 "metadata": {
  "kernelspec": {
   "display_name": "Python 3",
   "language": "python",
   "name": "python3"
  },
  "language_info": {
   "codemirror_mode": {
    "name": "ipython",
    "version": 3
   },
   "file_extension": ".py",
   "mimetype": "text/x-python",
   "name": "python",
   "nbconvert_exporter": "python",
   "pygments_lexer": "ipython3",
   "version": "3.6.6"
  }
 },
 "nbformat": 4,
 "nbformat_minor": 1
}
