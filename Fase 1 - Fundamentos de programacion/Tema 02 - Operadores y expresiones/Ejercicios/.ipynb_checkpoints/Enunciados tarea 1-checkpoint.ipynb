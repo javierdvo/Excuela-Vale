{
 "cells": [
  {
   "cell_type": "markdown",
   "metadata": {},
   "source": [
    "# Tema 02: Operadores y expresiones (Enunciados)\n",
    "*Nota: Estos ejercicios son optativos para hacer al final de la unidad y están pensados para apoyar tu aprendizaje*."
   ]
  },
  {
   "cell_type": "markdown",
   "metadata": {},
   "source": [
    "**1) Realiza un programa que lea 2 números por teclado y determine los siguientes aspectos (es suficiene con mostrar True o False):**\n",
    "* Si los dos números son iguales\n",
    "* Si los dos números son diferentes\n",
    "* Si el primero es mayor que el segundo\n",
    "* Si el segundo es mayor o igual que el primero"
   ]
  },
  {
   "cell_type": "code",
   "execution_count": 2,
   "metadata": {},
   "outputs": [
    {
     "name": "stdout",
     "output_type": "stream",
     "text": [
      "Escribe el primer numero5\n",
      "Escribe el segundo numero9\n",
      "False\n",
      "True\n",
      "False\n",
      "True\n"
     ]
    }
   ],
   "source": [
    "# Completa el ejercicio aquí\n",
    "\n",
    "num_1 = input(\"Escribe el primer numero\")\n",
    "num_2 = input(\"Escribe el segundo numero\")\n",
    "\n",
    "print(num_1 == num_2)\n",
    "print(num_1 != num_2)\n",
    "print(num_1 > num_2)\n",
    "print(num_1 <= num_2)"
   ]
  },
  {
   "cell_type": "markdown",
   "metadata": {},
   "source": [
    "**2) Utilizando operadores lógicos, determina si una cadena de texto introducida por el usuario tiene una longitud mayor o igual que 3 y a su vez es menor que 10 (es suficiene con mostrar True o False):**"
   ]
  },
  {
   "cell_type": "code",
   "execution_count": 2,
   "metadata": {},
   "outputs": [
    {
     "name": "stdout",
     "output_type": "stream",
     "text": [
      "Escribe el texto aqui tu mama otra vez\n",
      "False\n"
     ]
    }
   ],
   "source": [
    "# Completa el ejercicio aquí\n",
    "texto = input(\"Escribe el texto aqui \")\n",
    "largo = len(texto)\n",
    "\n",
    "print(largo >= 3 and largo < 10)"
   ]
  },
  {
   "cell_type": "markdown",
   "metadata": {},
   "source": [
    "**3) Realiza un programa que cumpla el siguiente algoritmo utilizando siempre que sea posible operadores en asignación:**\n",
    "* Guarda en una variable numero_magico el valor 12345679 (sin el 8)\n",
    "* Lee por pantalla otro numero_usuario, especifica que sea entre 1 y 9 (asegúrate que es un número)\n",
    "* Multiplica el numero_usuario por 9 en sí mismo\n",
    "* Multiplica el numero_magico por el numero_usuario en sí mismo\n",
    "* Finalmente muestra el valor final del numero_magico por pantalla\n"
   ]
  },
  {
   "cell_type": "code",
   "execution_count": 14,
   "metadata": {},
   "outputs": [
    {
     "name": "stdout",
     "output_type": "stream",
     "text": [
      "Escribe un numero entre 1 y 9: 2\n",
      "Menso, ese no es un numero\n"
     ]
    }
   ],
   "source": [
    "# Completa el ejercicio aquí\n",
    "\n",
    "numero_magico = 12345679\n",
    "\n",
    "numero_usuario = input(\"Escribe un numero entre 1 y 9: \")\n",
    "if type(numero_usuario) != int : \n",
    "    print(\"Menso, ese no es un numero\")\n",
    "else : \n",
    "    if 1 <= numero_usuario and numero_usuario <= 9 :\n",
    "        numero_usuario = numero_usuario * 9\n",
    "        print(numero_magico * numero_usuario)\n",
    "    else : \n",
    "        print(\"Nel, ese numero no esta dentro del rango\")\n",
    "\n"
   ]
  },
  {
   "cell_type": "code",
   "execution_count": 11,
   "metadata": {},
   "outputs": [
    {
     "name": "stdout",
     "output_type": "stream",
     "text": [
      "Escribe un numero entre 1 y 9: 1\n",
      "111111111\n"
     ]
    }
   ],
   "source": [
    "numero_magico = 12345679\n",
    "\n",
    "numero_usuario = int(input(\"Escribe un numero entre 1 y 9: \"))\n",
    "if 1 <= numero_usuario and numero_usuario <= 9 :\n",
    "    numero_usuario = numero_usuario * 9\n",
    "    print(numero_magico * numero_usuario)\n",
    "else : \n",
    "    print(\"Nel, ese numero no esta dentro del rango\")"
   ]
  },
  {
   "cell_type": "code",
   "execution_count": null,
   "metadata": {
    "collapsed": true
   },
   "outputs": [],
   "source": []
  }
 ],
 "metadata": {
  "anaconda-cloud": {},
  "kernelspec": {
   "display_name": "Python 3",
   "language": "python",
   "name": "python3"
  },
  "language_info": {
   "codemirror_mode": {
    "name": "ipython",
    "version": 3
   },
   "file_extension": ".py",
   "mimetype": "text/x-python",
   "name": "python",
   "nbconvert_exporter": "python",
   "pygments_lexer": "ipython3",
   "version": "3.6.6"
  }
 },
 "nbformat": 4,
 "nbformat_minor": 1
}
