{
 "cells": [
  {
   "cell_type": "markdown",
   "metadata": {
    "collapsed": true
   },
   "source": [
    "# Condiciones\n",
    "\n",
    "# Sentencia if (si)\n",
    "\n",
    "Permite dividir flujo del programa en diferentes caminos. Se ejecuta siempre que la expresion que comprueba devuelva un True"
   ]
  },
  {
   "cell_type": "code",
   "execution_count": 5,
   "metadata": {},
   "outputs": [
    {
     "name": "stdout",
     "output_type": "stream",
     "text": [
      "Segundoprint\n"
     ]
    }
   ],
   "source": [
    "if False : #equivalr a if not False\n",
    "    print(\"Se cumple la condicion\")\n",
    "else :\n",
    "    print(\"Segundoprint\")"
   ]
  },
  {
   "cell_type": "code",
   "execution_count": 6,
   "metadata": {},
   "outputs": [
    {
     "name": "stdout",
     "output_type": "stream",
     "text": [
      "Se cumple la condicion\n"
     ]
    }
   ],
   "source": [
    "if True : #equivalr a if not False\n",
    "    print(\"Se cumple la condicion\")\n",
    "else :\n",
    "    print(\"Segundoprint\")"
   ]
  },
  {
   "cell_type": "code",
   "execution_count": 7,
   "metadata": {},
   "outputs": [
    {
     "name": "stdout",
     "output_type": "stream",
     "text": [
      "a vale 5\n"
     ]
    }
   ],
   "source": [
    "#encadenar diferentes if\n",
    "\n",
    "a = 5\n",
    "if a == 2:\n",
    "    print(\"a vale 2\")\n",
    "if a == 5:\n",
    "    print(\"a vale 5\")\n"
   ]
  },
  {
   "cell_type": "code",
   "execution_count": 12,
   "metadata": {},
   "outputs": [
    {
     "name": "stdout",
     "output_type": "stream",
     "text": [
      "a vale 5\n",
      "y b vale\n"
     ]
    }
   ],
   "source": [
    "# Tambien anida if dentro de if\n",
    "\n",
    "a = 5\n",
    "b = 10\n",
    "if a == 5 :\n",
    "    print(\"a vale\", a)\n",
    "    if b == 10 :\n",
    "        print(\"y b vale\")\n"
   ]
  },
  {
   "cell_type": "code",
   "execution_count": 10,
   "metadata": {},
   "outputs": [
    {
     "name": "stdout",
     "output_type": "stream",
     "text": [
      "no\n"
     ]
    }
   ],
   "source": [
    "a = 6\n",
    "b = 10\n",
    "if a == 5 :\n",
    "    print(\"a vale\", a)\n",
    "    if b == 10 :\n",
    "        print(\"y b vale\")\n",
    "else : \n",
    "    print(\"no\")"
   ]
  },
  {
   "cell_type": "code",
   "execution_count": 13,
   "metadata": {},
   "outputs": [
    {
     "name": "stdout",
     "output_type": "stream",
     "text": [
      "a vale 5 y b vale 10\n"
     ]
    }
   ],
   "source": [
    "# comocondicion podemos evaluar multiples expresiones, siempre que estas devuelvan True o False\n",
    "\n",
    "if a == 5 and b == 10:\n",
    "    print(\"a vale 5 y b vale 10\")"
   ]
  },
  {
   "cell_type": "code",
   "execution_count": 16,
   "metadata": {},
   "outputs": [
    {
     "name": "stdout",
     "output_type": "stream",
     "text": [
      "a vale 5 y b vale 10\n"
     ]
    }
   ],
   "source": [
    "#\n",
    "\n",
    "if a == 5 and b == 10:\n",
    "    print(\"a vale {0} y b vale {1}\".format(a,b))"
   ]
  },
  {
   "cell_type": "markdown",
   "metadata": {},
   "source": [
    "# Setencia else (si no)\n",
    "\n",
    "Complemento de la cadena if, en el caso en el que no se cumpla la condicion"
   ]
  },
  {
   "cell_type": "code",
   "execution_count": 18,
   "metadata": {},
   "outputs": [
    {
     "name": "stdout",
     "output_type": "stream",
     "text": [
      "12 es un numero par\n"
     ]
    }
   ],
   "source": [
    "n = 12\n",
    "if n % 2 == 0:\n",
    "    print(n, \"es un numero par\")\n",
    "else :\n",
    "    print(n, \"es impar\")"
   ]
  },
  {
   "cell_type": "code",
   "execution_count": 19,
   "metadata": {},
   "outputs": [
    {
     "name": "stdout",
     "output_type": "stream",
     "text": [
      "11 es impar\n"
     ]
    }
   ],
   "source": [
    "n = 11\n",
    "if n % 2 == 0:\n",
    "    print(n, \"es un numero par\")\n",
    "else :\n",
    "    print(n, \"es impar\")"
   ]
  },
  {
   "cell_type": "markdown",
   "metadata": {},
   "source": [
    "# Sentencia Elif (si no, si)\n",
    "\n",
    "Encadenar un if a un sino, para comprobar multiples condiciones siempre que las anteriores no se cumplan"
   ]
  },
  {
   "cell_type": "code",
   "execution_count": 21,
   "metadata": {},
   "outputs": [
    {
     "name": "stdout",
     "output_type": "stream",
     "text": [
      "bye\n"
     ]
    }
   ],
   "source": [
    "comando = \"BLA\"\n",
    "if comando == \"BLAAA\" :\n",
    "    print (\"Habla bien\")\n",
    "elif comando == \"Yay\" :\n",
    "    print (\"Esta es otra cosa\")\n",
    "else : \n",
    "    print (\"bye\")"
   ]
  },
  {
   "cell_type": "code",
   "execution_count": 22,
   "metadata": {},
   "outputs": [
    {
     "name": "stdout",
     "output_type": "stream",
     "text": [
      "Esta es otra cosa\n"
     ]
    }
   ],
   "source": [
    "comando = \"Yay\"\n",
    "if comando == \"BLAAA\" :\n",
    "    print (\"Habla bien\")\n",
    "elif comando == \"Yay\" :\n",
    "    print (\"Esta es otra cosa\")\n",
    "else : \n",
    "    print (\"bye\")"
   ]
  },
  {
   "cell_type": "code",
   "execution_count": 23,
   "metadata": {
    "collapsed": true
   },
   "outputs": [],
   "source": [
    "comando = \"BLA\"\n",
    "if comando == \"BLAAA\" :\n",
    "    print (\"Habla bien\")\n",
    "elif comando == \"Yay\" :\n",
    "    print (\"Esta es otra cosa\")\n",
    "# no hay else"
   ]
  },
  {
   "cell_type": "code",
   "execution_count": 25,
   "metadata": {},
   "outputs": [
    {
     "name": "stdout",
     "output_type": "stream",
     "text": [
      "Introduce una nota: 1\n",
      "Insuficiente\n"
     ]
    }
   ],
   "source": [
    "nota = float(input(\"Introduce una nota: \"))\n",
    "if nota >= 9:\n",
    "    print(\"Sobresaliente\")\n",
    "elif nota >= 7:\n",
    "    print (\"Notable\")\n",
    "elif nota >= 6:\n",
    "    print (\"Bien\")\n",
    "elif nota >= 5:\n",
    "    print (\"Suficiente\")\n",
    "else :\n",
    "    print (\"Insuficiente\")"
   ]
  },
  {
   "cell_type": "code",
   "execution_count": 26,
   "metadata": {},
   "outputs": [
    {
     "name": "stdout",
     "output_type": "stream",
     "text": [
      "Introduce una nota: 9\n",
      "Sobresaliente\n",
      "Notable\n",
      "Bien\n",
      "Suficiente\n"
     ]
    }
   ],
   "source": [
    "# Es posible simular el comportamiento de elif con if\n",
    "\n",
    "nota = float(input(\"Introduce una nota: \"))\n",
    "if nota >= 9:\n",
    "    print(\"Sobresaliente\")\n",
    "if nota >= 7:\n",
    "    print (\"Notable\")\n",
    "if nota >= 6:\n",
    "    print (\"Bien\")\n",
    "if nota >= 5:\n",
    "    print (\"Suficiente\")\n",
    "else :\n",
    "    print (\"Insuficiente\")"
   ]
  },
  {
   "cell_type": "code",
   "execution_count": 29,
   "metadata": {},
   "outputs": [
    {
     "name": "stdout",
     "output_type": "stream",
     "text": [
      "Introduce una nota: 8\n",
      "Notable\n"
     ]
    }
   ],
   "source": [
    "nota = float(input(\"Introduce una nota: \"))\n",
    "if nota >= 9:\n",
    "    print(\"Sobresaliente\")\n",
    "if nota >= 7 and nota < 9:\n",
    "    print (\"Notable\")\n",
    "if nota >= 6 and nota < 7:\n",
    "    print (\"Bien\")\n",
    "if nota >= 5 and nota < 6:\n",
    "    print (\"Suficiente\")"
   ]
  },
  {
   "cell_type": "markdown",
   "metadata": {},
   "source": [
    "# Intruccion Pass\n",
    "\n",
    "Sirve para finalizar un bloque, se puede utilizar en un bloque vacio"
   ]
  },
  {
   "cell_type": "code",
   "execution_count": 30,
   "metadata": {
    "collapsed": true
   },
   "outputs": [],
   "source": [
    "if True:\n",
    "    pass"
   ]
  },
  {
   "cell_type": "code",
   "execution_count": null,
   "metadata": {
    "collapsed": true
   },
   "outputs": [],
   "source": []
  }
 ],
 "metadata": {
  "kernelspec": {
   "display_name": "Python 3",
   "language": "python",
   "name": "python3"
  },
  "language_info": {
   "codemirror_mode": {
    "name": "ipython",
    "version": 3
   },
   "file_extension": ".py",
   "mimetype": "text/x-python",
   "name": "python",
   "nbconvert_exporter": "python",
   "pygments_lexer": "ipython3",
   "version": "3.6.6"
  }
 },
 "nbformat": 4,
 "nbformat_minor": 1
}
