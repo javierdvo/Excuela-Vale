{
 "cells": [
  {
   "cell_type": "markdown",
   "metadata": {
    "collapsed": true
   },
   "source": [
    "# Iteraciones\n",
    "\n",
    "iterar signifca realizar una accion varias veces. Cada vez que se repite se denomina iteracion, ciclo o loop"
   ]
  },
  {
   "cell_type": "markdown",
   "metadata": {},
   "source": [
    "# Sentencia while (mientras)\n",
    "\n",
    "Repetir bloque a partir de evaluar condicion logica siempre que sea verdadera True\n",
    "\n",
    "Queda en manos del programador cuando finaliza al ser False"
   ]
  },
  {
   "cell_type": "code",
   "execution_count": 1,
   "metadata": {},
   "outputs": [
    {
     "name": "stdout",
     "output_type": "stream",
     "text": [
      "c vale 1\n",
      "c vale 2\n",
      "c vale 3\n",
      "c vale 4\n",
      "c vale 5\n",
      "c vale 6\n"
     ]
    }
   ],
   "source": [
    "c = 0\n",
    "while c <= 5:\n",
    "    c += 1\n",
    "    print(\"c vale\", c)"
   ]
  },
  {
   "cell_type": "code",
   "execution_count": 2,
   "metadata": {},
   "outputs": [
    {
     "name": "stdout",
     "output_type": "stream",
     "text": [
      "c vale 0\n",
      "c vale 1\n",
      "c vale 2\n",
      "c vale 3\n",
      "c vale 4\n",
      "c vale 5\n"
     ]
    }
   ],
   "source": [
    "c = 0\n",
    "while c <= 5:\n",
    "    print(\"c vale\", c)\n",
    "    c += 1"
   ]
  },
  {
   "cell_type": "markdown",
   "metadata": {},
   "source": [
    "# Sentencia else en bucle while\n",
    "\n",
    "Se encadena al while para ejecturar un bloque de codigo una vez la condicion ya no evuelve True"
   ]
  },
  {
   "cell_type": "code",
   "execution_count": 4,
   "metadata": {},
   "outputs": [
    {
     "name": "stdout",
     "output_type": "stream",
     "text": [
      "c vale, 0\n",
      "c vale, 1\n",
      "c vale, 2\n",
      "c vale, 3\n",
      "c vale, 4\n",
      "c vale, 5\n",
      "Se acabo\n"
     ]
    }
   ],
   "source": [
    "c = 0\n",
    "while c <= 5:\n",
    "    print(\"c vale,\", c)\n",
    "    c += 1\n",
    "else:\n",
    "    print(\"Se acabo\")"
   ]
  },
  {
   "cell_type": "markdown",
   "metadata": {},
   "source": [
    "# intruccion break\n",
    "\n",
    "Sirve para \"romper\" laejecucion de while en cualquier momento. No se ejecutara elelse ya que este solo se llama al finalizar el ciclo."
   ]
  },
  {
   "cell_type": "code",
   "execution_count": 5,
   "metadata": {},
   "outputs": [
    {
     "name": "stdout",
     "output_type": "stream",
     "text": [
      "c vale, 1\n",
      "c vale, 2\n",
      "c vale, 3\n",
      "Rompe el ciclo en 4\n"
     ]
    }
   ],
   "source": [
    "c = 0\n",
    "while c <= 5:\n",
    "    c += 1\n",
    "    if (c == 4):\n",
    "        print(\"Rompe el ciclo en 4\")\n",
    "        break\n",
    "    print(\"c vale,\", c)\n",
    "else:\n",
    "    print(\"Se acabo\")"
   ]
  },
  {
   "cell_type": "markdown",
   "metadata": {},
   "source": [
    "# Continue\n",
    "\n",
    "saltar la iteracion actual sin romper bucle"
   ]
  },
  {
   "cell_type": "code",
   "execution_count": 6,
   "metadata": {},
   "outputs": [
    {
     "name": "stdout",
     "output_type": "stream",
     "text": [
      "c vale, 1\n",
      "c vale, 2\n",
      "c vale, 3\n",
      "Rompe el ciclo en 4\n",
      "c vale, 5\n",
      "c vale, 6\n",
      "Se acabo\n"
     ]
    }
   ],
   "source": [
    "c = 0\n",
    "while c <= 5:\n",
    "    c += 1\n",
    "    if (c == 4):\n",
    "        print(\"Rompe el ciclo en 4\")\n",
    "        continue\n",
    "    print(\"c vale,\", c)\n",
    "else:\n",
    "    print(\"Se acabo\")"
   ]
  },
  {
   "cell_type": "markdown",
   "metadata": {},
   "source": [
    "# Menu interactivo"
   ]
  },
  {
   "cell_type": "code",
   "execution_count": 10,
   "metadata": {},
   "outputs": [
    {
     "name": "stdout",
     "output_type": "stream",
     "text": [
      "Bienvenido al menu interactivo\n",
      "Que quieres hacer? Escribe una opcion\n",
      "    1) Saludar\n",
      "    2) Sumar dos numeros\n",
      "    3) Salir\n",
      "9\n",
      "Nel, no es una opcion\n",
      "Que quieres hacer? Escribe una opcion\n",
      "    1) Saludar\n",
      "    2) Sumar dos numeros\n",
      "    3) Salir\n",
      "jj\n",
      "Nel, no es una opcion\n",
      "Que quieres hacer? Escribe una opcion\n",
      "    1) Saludar\n",
      "    2) Sumar dos numeros\n",
      "    3) Salir\n",
      "3\n",
      "bye bye\n"
     ]
    }
   ],
   "source": [
    "print(\"Bienvenido al menu interactivo\")\n",
    "while (True):\n",
    "    print(\"\"\"Que quieres hacer? Escribe una opcion\n",
    "    1) Saludar\n",
    "    2) Sumar dos numeros\n",
    "    3) Salir\"\"\")\n",
    "    opcion = input()\n",
    "    if opcion == '1':\n",
    "        print(\"Holi canoli\")\n",
    "    elif opcion == '2':\n",
    "        n1 = int(input(\"Introduce un num\"))\n",
    "        n2 = int(input(\"introduce otro num\"))\n",
    "        print(\"El resultado es: \", n1 + n2)\n",
    "    elif opcion == '3':\n",
    "        print(\"bye bye\")\n",
    "        break\n",
    "    else:\n",
    "        print(\"Nel, no es una opcion\")"
   ]
  },
  {
   "cell_type": "code",
   "execution_count": null,
   "metadata": {
    "collapsed": true
   },
   "outputs": [],
   "source": []
  }
 ],
 "metadata": {
  "kernelspec": {
   "display_name": "Python 3",
   "language": "python",
   "name": "python3"
  },
  "language_info": {
   "codemirror_mode": {
    "name": "ipython",
    "version": 3
   },
   "file_extension": ".py",
   "mimetype": "text/x-python",
   "name": "python",
   "nbconvert_exporter": "python",
   "pygments_lexer": "ipython3",
   "version": "3.6.6"
  }
 },
 "nbformat": 4,
 "nbformat_minor": 1
}
