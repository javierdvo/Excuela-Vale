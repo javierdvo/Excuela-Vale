{
 "cells": [
  {
   "cell_type": "markdown",
   "metadata": {},
   "source": [
    "# Tema 03: Control de flujo (Enunciados)\n",
    "*Nota: Estos ejercicios son optativos para hacer al final de la unidad y están pensados para apoyar tu aprendizaje*."
   ]
  },
  {
   "cell_type": "markdown",
   "metadata": {},
   "source": [
    "**1) Realiza un programa que lea dos números por teclado y permita elegir entre 3 opciones en un menú:** \n",
    "* Mostrar una suma de los dos números\n",
    "* Mostrar una resta de los dos números (el primero menos el segundo)\n",
    "* Mostrar una multiplicación de los dos números\n",
    "* En caso de no introducir una opción válida, el programa informará de que no es correcta."
   ]
  },
  {
   "cell_type": "code",
   "execution_count": 1,
   "metadata": {},
   "outputs": [
    {
     "name": "stdout",
     "output_type": "stream",
     "text": [
      "Holi canoli\n",
      "Introduce un numero: 5\n",
      "Introduce otro numero: 3\n",
      "Que quieres hacer? Escribe una opcion\n",
      "    1) Mostrar una suma de los dos numeros\n",
      "    2) Mostrar una resta de los dos numeros (el primero menos el segundo)\n",
      "    3) Mostrar una multiplicacion de los dos numeros\n",
      "    4) Salir\n",
      "1\n",
      "El resultado es:  8\n",
      "Introduce un numero: 5\n",
      "Introduce otro numero: 3\n",
      "Que quieres hacer? Escribe una opcion\n",
      "    1) Mostrar una suma de los dos numeros\n",
      "    2) Mostrar una resta de los dos numeros (el primero menos el segundo)\n",
      "    3) Mostrar una multiplicacion de los dos numeros\n",
      "    4) Salir\n",
      "2\n",
      "El resultado es:  2\n",
      "Introduce un numero: 5\n",
      "Introduce otro numero: 3\n",
      "Que quieres hacer? Escribe una opcion\n",
      "    1) Mostrar una suma de los dos numeros\n",
      "    2) Mostrar una resta de los dos numeros (el primero menos el segundo)\n",
      "    3) Mostrar una multiplicacion de los dos numeros\n",
      "    4) Salir\n",
      "3\n",
      "El resultado es:  15\n",
      "Introduce un numero: 5\n",
      "Introduce otro numero: 3\n",
      "Que quieres hacer? Escribe una opcion\n",
      "    1) Mostrar una suma de los dos numeros\n",
      "    2) Mostrar una resta de los dos numeros (el primero menos el segundo)\n",
      "    3) Mostrar una multiplicacion de los dos numeros\n",
      "    4) Salir\n",
      "6\n",
      "Opcion no valida, tonto\n",
      "Introduce un numero: 5\n",
      "Introduce otro numero: 6\n",
      "Que quieres hacer? Escribe una opcion\n",
      "    1) Mostrar una suma de los dos numeros\n",
      "    2) Mostrar una resta de los dos numeros (el primero menos el segundo)\n",
      "    3) Mostrar una multiplicacion de los dos numeros\n",
      "    4) Salir\n",
      "4\n",
      "bye\n"
     ]
    }
   ],
   "source": [
    "# Completa el ejercicio aquí\n",
    "print(\"Holi canoli\")\n",
    "while (True):\n",
    "    num1 = int(input(\"Introduce un numero: \"))\n",
    "    num2 = int(input(\"Introduce otro numero: \"))\n",
    "    print(\"\"\"Que quieres hacer? Escribe una opcion\n",
    "    1) Mostrar una suma de los dos numeros\n",
    "    2) Mostrar una resta de los dos numeros (el primero menos el segundo)\n",
    "    3) Mostrar una multiplicacion de los dos numeros\n",
    "    4) Salir\"\"\")\n",
    "    opcion = int(input())\n",
    "    if opcion == 1:\n",
    "        print(\"El resultado es: \", num1 + num2)\n",
    "    elif opcion == 2:\n",
    "        print(\"El resultado es: \", num1 - num2)\n",
    "    elif opcion == 3:\n",
    "        print(\"El resultado es: \", num1 * num2)\n",
    "    elif opcion == 4:\n",
    "        print(\"bye\")\n",
    "        break\n",
    "    else :\n",
    "        print(\"Opcion no valida, tonto\")\n",
    "\n",
    "    \n"
   ]
  },
  {
   "cell_type": "markdown",
   "metadata": {},
   "source": [
    "**2) Realiza un programa que lea un número impar por teclado. Si el usuario no introduce un número impar, debe repetise el proceso hasta que lo introduzca correctamente.**"
   ]
  },
  {
   "cell_type": "code",
   "execution_count": 6,
   "metadata": {},
   "outputs": [
    {
     "name": "stdout",
     "output_type": "stream",
     "text": [
      "Introduce un numero impar2\n",
      "Introduce un numero impar2\n",
      "Introduce un numero impar2\n",
      "Introduce un numero impar2\n",
      "Introduce un numero impar2\n",
      "Introduce un numero impar2\n",
      "Introduce un numero impar2\n",
      "Introduce un numero impar2\n",
      "Introduce un numero impar2\n",
      "Introduce un numero impar2\n",
      "Introduce un numero impar2\n",
      "Introduce un numero impar2\n",
      "Introduce un numero impar0\n",
      "Introduce un numero impar0\n",
      "Introduce un numero impar0\n",
      "Introduce un numero impar0\n",
      "Introduce un numero impar0\n",
      "Introduce un numero impar3\n",
      "No Impar\n"
     ]
    }
   ],
   "source": [
    "# Completa el ejercicio aquí\n",
    "num = int(input(\"Introduce un numero impar\"))\n",
    "while (num %2 != 1):\n",
    "    num = int(input(\"Introduce un numero impar\"))\n",
    "else:\n",
    "    print(\"No Impar\")"
   ]
  },
  {
   "cell_type": "markdown",
   "metadata": {},
   "source": [
    "**3) Realiza un programa que sume todos los números enteros pares desde el 0 hasta el 100:**\n",
    "\n",
    "*Sugerencia: Puedes utilizar la funciones sum() y range() para hacerlo más fácil. El tercer parámetro en la función range(inicio, fin, salto) indica un salto de números, pruébalo.*"
   ]
  },
  {
   "cell_type": "code",
   "execution_count": 12,
   "metadata": {},
   "outputs": [
    {
     "name": "stdout",
     "output_type": "stream",
     "text": [
      "2550\n"
     ]
    }
   ],
   "source": [
    "# Completa el ejercicio aquí\n",
    "rango=range(0,101,2)\n",
    "print(sum(rango))"
   ]
  },
  {
   "cell_type": "markdown",
   "metadata": {},
   "source": [
    "**4) Realiza un programa que pida al usuario cuantos números quiere introducir. Luego lee todos los números y realiza una media aritmética:**\n"
   ]
  },
  {
   "cell_type": "code",
   "execution_count": 13,
   "metadata": {},
   "outputs": [
    {
     "name": "stdout",
     "output_type": "stream",
     "text": [
      "Cuantos Numeros quieres introducir? 5\n",
      "Numero: 1\n",
      "Numero: 2\n",
      "Numero: 3\n",
      "Numero: 4\n",
      "Numero: 5\n",
      "La media es 3.0\n"
     ]
    }
   ],
   "source": [
    "# Completa el ejercicio aquí\n",
    "\n",
    "divisor=int(input(\"Cuantos Numeros quieres introducir? \"))\n",
    "contador=divisor\n",
    "lista=list()\n",
    "while(contador>0):\n",
    "    lista.append(int(input(\"Numero: \")))    \n",
    "    #contador-=1\n",
    "    contador=contador-1\n",
    "dividendo=sum(lista)\n",
    "print(\"La media es\",dividendo/divisor)"
   ]
  },
  {
   "cell_type": "markdown",
   "metadata": {},
   "source": [
    "**5) Realiza un programa que pida al usuario un número entero del 0 al 9, y que mientras el número no sea correcto se repita el proceso. Luego debe comprobar si el número se encuentra en la lista de números y notificarlo:**\n",
    "\n",
    "*Consejo: La sintaxis \"valor in lista\" permite comprobar fácilmente si un valor se encuentra en una lista (devuelve True o False)*"
   ]
  },
  {
   "cell_type": "code",
   "execution_count": 20,
   "metadata": {},
   "outputs": [
    {
     "name": "stdout",
     "output_type": "stream",
     "text": [
      "Introduce un numero del 0 al 9: 55\n",
      "Introduce un numero del 0 al 9: -6\n",
      "Introduce un numero del 0 al 9: 5\n"
     ]
    }
   ],
   "source": [
    "# Completa el ejercicio aquí\n",
    "numeros = [1, 3, 6, 9]\n",
    "num = int(input(\"Introduce un numero del 0 al 9: \"))\n",
    "while (num < 0 or num > 9):\n",
    "    num = int(input(\"Introduce un numero del 0 al 9: \"))\n",
    "if(num in numeros):\n",
    "    print(\"El numero esta en la lista\")\n"
   ]
  },
  {
   "cell_type": "markdown",
   "metadata": {},
   "source": [
    "**6) Utilizando la función range() y la conversión a listas genera las siguientes listas dinámicamente:**\n",
    "* Todos los números del 0 al 10 [0, 1, 2, ..., 10]\n",
    "* Todos los números del -10 al 0 [-10, -9, -8, ..., 0]\n",
    "* Todos los números pares del 0 al 20 [0, 2, 4, ..., 20]\n",
    "* Todos los números impares entre -20 y 0 [-19, -17, -15, ..., -1]\n",
    "* Todos los números múltiples de 5 del 0 al 50 [0, 5, 10, ..., 50]\n",
    "\n",
    "*Pista: Utiliza el tercer parámetro de la función range(inicio, fin, salto).*"
   ]
  },
  {
   "cell_type": "code",
   "execution_count": 25,
   "metadata": {},
   "outputs": [
    {
     "name": "stdout",
     "output_type": "stream",
     "text": [
      "[0, 1, 2, 3, 4, 5, 6, 7, 8, 9, 10]\n",
      "[-10, -9, -8, -7, -6, -5, -4, -3, -2, -1, 0]\n",
      "[0, 2, 4, 6, 8, 10, 12, 14, 16, 18, 20]\n",
      "[-19, -17, -15, -13, -11, -9, -7, -5, -3, -1]\n",
      "[0, 5, 10, 15, 20, 25, 30, 35, 40, 45, 50]\n"
     ]
    }
   ],
   "source": [
    "# Completa el ejercicio\n",
    "print(list(range(0,11)))\n",
    "print(list(range(-10,1)))\n",
    "print(list(range(0,21,2)))\n",
    "print(list(range(-19,1,2)))\n",
    "print(list(range(0,51,5)))"
   ]
  },
  {
   "cell_type": "markdown",
   "metadata": {},
   "source": [
    "**7) Dadas dos listas, debes generar una tercera con todos los elementos que se repitan en ellas, pero no debe repetise ningún elemento en la nueva lista:**"
   ]
  },
  {
   "cell_type": "code",
   "execution_count": 40,
   "metadata": {},
   "outputs": [
    {
     "name": "stdout",
     "output_type": "stream",
     "text": [
      "5\n",
      "5\n",
      "6\n",
      "7\n",
      "{5, 6, 7}\n"
     ]
    }
   ],
   "source": [
    "# Completa el ejercicio aquí\n",
    "lista1=[1,2,3,4,5,5,6,7]\n",
    "lista2=[5,6,7,8,9]\n",
    "\n",
    "lista3=list()\n",
    "for numero in lista1:\n",
    "    if(numero in lista2):\n",
    "        print(numero)\n",
    "        lista3.append(numero)\n",
    "print(set(lista3))"
   ]
  },
  {
   "cell_type": "code",
   "execution_count": null,
   "metadata": {
    "collapsed": true
   },
   "outputs": [],
   "source": []
  }
 ],
 "metadata": {
  "anaconda-cloud": {},
  "kernelspec": {
   "display_name": "Python 3",
   "language": "python",
   "name": "python3"
  },
  "language_info": {
   "codemirror_mode": {
    "name": "ipython",
    "version": 3
   },
   "file_extension": ".py",
   "mimetype": "text/x-python",
   "name": "python",
   "nbconvert_exporter": "python",
   "pygments_lexer": "ipython3",
   "version": "3.6.6"
  }
 },
 "nbformat": 4,
 "nbformat_minor": 1
}
